{
 "cells": [
  {
   "cell_type": "code",
   "execution_count": 1,
   "metadata": {
    "collapsed": false,
    "slideshow": {
     "slide_type": "skip"
    }
   },
   "outputs": [
    {
     "data": {
      "text/html": [
       "<link rel='stylesheet' type='text/css' href='custom.css'/>"
      ],
      "text/plain": [
       "<IPython.core.display.HTML object>"
      ]
     },
     "metadata": {},
     "output_type": "display_data"
    }
   ],
   "source": [
    "%%html\n",
    "<link rel='stylesheet' type='text/css' href='custom.css'/>"
   ]
  },
  {
   "cell_type": "code",
   "execution_count": 2,
   "metadata": {
    "collapsed": false,
    "slideshow": {
     "slide_type": "skip"
    }
   },
   "outputs": [
    {
     "name": "stdout",
     "output_type": "stream",
     "text": [
      "rm: cannot remove ‘data/converted-seqs.fasta’: No such file or directory\r\n",
      "rm: cannot remove ‘data/converted-seqs.qual’: No such file or directory\r\n",
      "rm: cannot remove ‘data/not-yasf.fna’: No such file or directory\r\n"
     ]
    }
   ],
   "source": [
    "!rm data/converted-seqs.fasta data/converted-seqs.qual data/not-yasf.fna"
   ]
  },
  {
   "cell_type": "code",
   "execution_count": 3,
   "metadata": {
    "collapsed": true,
    "slideshow": {
     "slide_type": "skip"
    }
   },
   "outputs": [],
   "source": [
    "%matplotlib inline\n",
    "import matplotlib.pyplot as plt\n",
    "\n",
    "def plot_confusion_matrix(cm, title='Confusion matrix', cmap=plt.cm.Blues):\n",
    "    plt.figure()\n",
    "    plt.imshow(cm, interpolation='nearest', cmap=cmap)\n",
    "    plt.title(title)\n",
    "    plt.colorbar()\n",
    "    plt.ylabel('Known taxonomy')\n",
    "    plt.xlabel('Predicted taxonomy')\n",
    "    plt.tight_layout()\n",
    "    plt.show()"
   ]
  },
  {
   "cell_type": "markdown",
   "metadata": {
    "slideshow": {
     "slide_type": "slide"
    }
   },
   "source": [
    "![](assets/logo.svg)\n",
    "\n",
    "# A Bioinformatics Library for Data Scientists, Students, and Developers\n",
    "\n",
    "Jai Rideout and Evan Bolyen\n",
    "\n",
    "*[Caporaso Lab](http://caporasolab.us), Northern Arizona University*"
   ]
  },
  {
   "cell_type": "markdown",
   "metadata": {
    "slideshow": {
     "slide_type": "slide"
    }
   },
   "source": [
    "## What is scikit-bio?"
   ]
  },
  {
   "cell_type": "markdown",
   "metadata": {
    "slideshow": {
     "slide_type": "-"
    }
   },
   "source": [
    "A Python bioinformatics library for:"
   ]
  },
  {
   "cell_type": "markdown",
   "metadata": {
    "slideshow": {
     "slide_type": "fragment"
    }
   },
   "source": [
    "- data scientists"
   ]
  },
  {
   "cell_type": "markdown",
   "metadata": {
    "slideshow": {
     "slide_type": "fragment"
    }
   },
   "source": [
    "- students"
   ]
  },
  {
   "cell_type": "markdown",
   "metadata": {
    "slideshow": {
     "slide_type": "fragment"
    }
   },
   "source": [
    "- developers"
   ]
  },
  {
   "cell_type": "markdown",
   "metadata": {
    "slideshow": {
     "slide_type": "slide"
    }
   },
   "source": [
    "> \"The first step in developing a new genetic analysis algorithm is to decide how to make the input data file format different from all pre-existing analysis data file formats.\" - [Law's First Law](http://www.bioinformatics.roslin.ed.ac.uk/lawslaws/)\n",
    "\n",
    "\n",
    "\n",
    "\n",
    "\n",
    "\n",
    "\n",
    "\n",
    "\n",
    "\n",
    "\n",
    "\n",
    "\n"
   ]
  },
  {
   "cell_type": "markdown",
   "metadata": {
    "slideshow": {
     "slide_type": "subslide"
    }
   },
   "source": [
    "<span style='line-height:2em; word-spacing:2em'>Axt BAM SAM BED bedGraph bigBed bigGenePred table bigWig Chain GenePred table GFF GTF HAL MAF Microarray Net Personal Genome SNP format PSL VCF WIG  abi ace clustal embl fasta fastq genbank ig imgt nexus phred phylip pir seqxml sff stockholm swiss tab qual uniprot-xml emboss PhyolXML NexML newick CDAO MDL bcf caf gcproj scf SBML lsmat ordination qseq BIOM ASN.1 .2bit .nib ENCODE ... </span>"
   ]
  },
  {
   "cell_type": "markdown",
   "metadata": {
    "slideshow": {
     "slide_type": "subslide"
    }
   },
   "source": [
    "<span style='line-height:2em; word-spacing:2em'>Axt BAM SAM BED bedGraph bigBed bigGenePred table bigWig Chain GenePred table GFF GTF HAL MAF Microarray Net Personal Genome SNP format PSL VCF WIG  abi ace <span class='supio'>clustal</span> embl <span class='supio'>fasta</span> <span class='supio'>fastq</span> genbank ig imgt nexus phred <span class='supio'>phylip</span> pir seqxml sff stockholm swiss tab qual uniprot-xml emboss PhyolXML NexML <span class='supio'>newick</span> CDAO MDL bcf caf gcproj scf SBML <span class='supio'>lsmat</span> <span class='supio'>ordination</span> <span class='supio'>qseq</span> BIOM ASN.1 .2bit .nib ENCODE ... </span>"
   ]
  },
  {
   "cell_type": "markdown",
   "metadata": {
    "slideshow": {
     "slide_type": "slide"
    }
   },
   "source": [
    "## I/O in bioinformatics is hard\n"
   ]
  },
  {
   "cell_type": "markdown",
   "metadata": {
    "slideshow": {
     "slide_type": "fragment"
    }
   },
   "source": [
    "- format redundancy (many-to-many)"
   ]
  },
  {
   "cell_type": "markdown",
   "metadata": {
    "slideshow": {
     "slide_type": "fragment"
    }
   },
   "source": [
    "- format ambiguity"
   ]
  },
  {
   "cell_type": "markdown",
   "metadata": {
    "slideshow": {
     "slide_type": "fragment"
    }
   },
   "source": [
    "- heterogeneous sources"
   ]
  },
  {
   "cell_type": "markdown",
   "metadata": {
    "slideshow": {
     "slide_type": "slide"
    }
   },
   "source": [
    "## How can we solve this?\n"
   ]
  },
  {
   "cell_type": "markdown",
   "metadata": {
    "slideshow": {
     "slide_type": "fragment"
    }
   },
   "source": [
    "# An I/O Registry!"
   ]
  },
  {
   "cell_type": "markdown",
   "metadata": {
    "slideshow": {
     "slide_type": "slide"
    }
   },
   "source": [
    "## Format redundancy (many-to-many)\n"
   ]
  },
  {
   "cell_type": "code",
   "execution_count": 4,
   "metadata": {
    "collapsed": false,
    "slideshow": {
     "slide_type": "-"
    }
   },
   "outputs": [
    {
     "data": {
      "text/plain": [
       "DNA\n",
       "---------------------------------------------------------------------\n",
       "Metadata:\n",
       "    'description': ''\n",
       "    'id': 'M10_68:1:1:19607:29475#0/1'\n",
       "Positional metadata:\n",
       "    'quality': <dtype: uint8>\n",
       "Stats:\n",
       "    length: 152\n",
       "    has gaps: False\n",
       "    has degenerates: False\n",
       "    has non-degenerates: True\n",
       "    GC-content: 45.39%\n",
       "---------------------------------------------------------------------\n",
       "0   GACATAAGGG TGGTTAGTAT ACCGGCAAGG ACGGGGTTAC TAGTGACGTC CTTCCCCGTA\n",
       "60  TGCCGGGCAA TAATGTTTAT GTTGGTTTCA TGGTTTGGTC TAACTTTACC GCTACTAAAT\n",
       "120 GCTGCGGATT GGTTTCGCTG AATCAGATTA TT"
      ]
     },
     "execution_count": 4,
     "metadata": {},
     "output_type": "execute_result"
    }
   ],
   "source": [
    "from skbio import DNA\n",
    "\n",
    "seq1 = DNA.read('data/seqs.fasta', qual='data/seqs.qual')\n",
    "seq2 = DNA.read('data/seqs.fastq', variant='illumina1.8')\n",
    "seq1"
   ]
  },
  {
   "cell_type": "code",
   "execution_count": 5,
   "metadata": {
    "collapsed": false,
    "slideshow": {
     "slide_type": "-"
    }
   },
   "outputs": [
    {
     "data": {
      "text/plain": [
       "True"
      ]
     },
     "execution_count": 5,
     "metadata": {},
     "output_type": "execute_result"
    }
   ],
   "source": [
    "seq1 == seq2"
   ]
  },
  {
   "cell_type": "markdown",
   "metadata": {
    "slideshow": {
     "slide_type": "slide"
    }
   },
   "source": [
    "## Format ambiguity"
   ]
  },
  {
   "cell_type": "code",
   "execution_count": 6,
   "metadata": {
    "collapsed": false,
    "slideshow": {
     "slide_type": "-"
    }
   },
   "outputs": [
    {
     "data": {
      "text/plain": [
       "('lsmat', {'delimiter': ','})"
      ]
     },
     "execution_count": 6,
     "metadata": {},
     "output_type": "execute_result"
    }
   ],
   "source": [
    "import skbio.io\n",
    "\n",
    "skbio.io.sniff('data/mystery_file.gz')"
   ]
  },
  {
   "cell_type": "markdown",
   "metadata": {
    "slideshow": {
     "slide_type": "slide"
    }
   },
   "source": [
    "## Heterogeneous sources"
   ]
  },
  {
   "cell_type": "markdown",
   "metadata": {
    "slideshow": {
     "slide_type": "-"
    }
   },
   "source": [
    "#### Read a gzip file from a URL:"
   ]
  },
  {
   "cell_type": "code",
   "execution_count": 7,
   "metadata": {
    "collapsed": false,
    "slideshow": {
     "slide_type": "-"
    }
   },
   "outputs": [
    {
     "name": "stdout",
     "output_type": "stream",
     "text": [
      "                    /-a\n",
      "                   |\n",
      "          /--------|--b\n",
      "         |         |\n",
      "---------|          \\-c\n",
      "         |\n",
      "          \\-d\n"
     ]
    }
   ],
   "source": [
    "from skbio import TreeNode\n",
    "\n",
    "tree1 = skbio.io.read('http://localhost:8888/files/data/newick.gz', \n",
    "                      into=TreeNode)\n",
    "print(tree1.ascii_art())"
   ]
  },
  {
   "cell_type": "markdown",
   "metadata": {
    "slideshow": {
     "slide_type": "subslide"
    }
   },
   "source": [
    "#### Read a bz2 file from a file path:"
   ]
  },
  {
   "cell_type": "code",
   "execution_count": 8,
   "metadata": {
    "collapsed": false,
    "slideshow": {
     "slide_type": "-"
    }
   },
   "outputs": [
    {
     "name": "stdout",
     "output_type": "stream",
     "text": [
      "                    /-a\n",
      "                   |\n",
      "          /--------|--b\n",
      "         |         |\n",
      "---------|          \\-c\n",
      "         |\n",
      "          \\-d\n"
     ]
    }
   ],
   "source": [
    "import io \n",
    "\n",
    "with io.open('data/newick.bz2', mode='rb') as open_filehandle:\n",
    "    tree2 = skbio.io.read(open_filehandle, into=TreeNode)\n",
    "\n",
    "print(tree2.ascii_art())"
   ]
  },
  {
   "cell_type": "markdown",
   "metadata": {
    "slideshow": {
     "slide_type": "subslide"
    }
   },
   "source": [
    "#### Read a list of lines:"
   ]
  },
  {
   "cell_type": "code",
   "execution_count": 9,
   "metadata": {
    "collapsed": false,
    "slideshow": {
     "slide_type": "-"
    }
   },
   "outputs": [
    {
     "name": "stdout",
     "output_type": "stream",
     "text": [
      "                    /-a\n",
      "                   |\n",
      "          /--------|--b\n",
      "         |         |\n",
      "---------|          \\-c\n",
      "         |\n",
      "          \\-d\n"
     ]
    }
   ],
   "source": [
    "tree3 = skbio.io.read(['((a, b, c), d:15):0;'], into=TreeNode)\n",
    "print(tree3.ascii_art())"
   ]
  },
  {
   "cell_type": "markdown",
   "metadata": {
    "slideshow": {
     "slide_type": "slide"
    }
   },
   "source": [
    "## Let's make a format!"
   ]
  },
  {
   "cell_type": "markdown",
   "metadata": {
    "slideshow": {
     "slide_type": "fragment"
    }
   },
   "source": [
    "#YASF (Yet Another Sequence Format)"
   ]
  },
  {
   "cell_type": "code",
   "execution_count": 10,
   "metadata": {
    "collapsed": false,
    "scrolled": false,
    "slideshow": {
     "slide_type": "subslide"
    }
   },
   "outputs": [
    {
     "name": "stdout",
     "output_type": "stream",
     "text": [
      "#YASF\r\n",
      "ID: presentation-id-1\r\n",
      "Location: Austin, TX\r\n",
      "Description: SciPy 2015 is awesome!\r\n",
      "Sequence: >\r\n",
      "    ACGTGCTAGCTCGATCGCTAGCCCGAGAGCGCAGCGCGCTAGCTCGATCGCGCTAGAGAGAGATCGCGCTAGCGWA"
     ]
    }
   ],
   "source": [
    "!cat data/yasf-seq.yml"
   ]
  },
  {
   "cell_type": "code",
   "execution_count": 11,
   "metadata": {
    "collapsed": false,
    "scrolled": true,
    "slideshow": {
     "slide_type": "fragment"
    }
   },
   "outputs": [],
   "source": [
    "import yaml\n",
    "\n",
    "yasf = skbio.io.create_format('yasf')\n",
    "\n",
    "@yasf.sniffer()\n",
    "def yasf_sniffer(fh):\n",
    "    return fh.readline().rstrip() == \"#YASF\", {}\n",
    "\n",
    "@yasf.reader(DNA)\n",
    "def yasf_to_dna(fh):\n",
    "    seq = yaml.load(fh.read())\n",
    "    return DNA(seq['Sequence'], metadata={\n",
    "        'id': seq['ID'],\n",
    "        'location': seq['Location'],\n",
    "        'description': seq['Description']\n",
    "    })"
   ]
  },
  {
   "cell_type": "code",
   "execution_count": 12,
   "metadata": {
    "collapsed": false,
    "slideshow": {
     "slide_type": "subslide"
    }
   },
   "outputs": [
    {
     "data": {
      "text/plain": [
       "DNA\n",
       "--------------------------------------------------------------------\n",
       "Metadata:\n",
       "    'description': 'SciPy 2015 is awesome!'\n",
       "    'id': 'presentation-id-1'\n",
       "    'location': 'Austin, TX'\n",
       "Stats:\n",
       "    length: 76\n",
       "    has gaps: False\n",
       "    has degenerates: True\n",
       "    has non-degenerates: True\n",
       "    GC-content: 63.16%\n",
       "--------------------------------------------------------------------\n",
       "0  ACGTGCTAGC TCGATCGCTA GCCCGAGAGC GCAGCGCGCT AGCTCGATCG CGCTAGAGAG\n",
       "60 AGATCGCGCT AGCGWA"
      ]
     },
     "execution_count": 12,
     "metadata": {},
     "output_type": "execute_result"
    }
   ],
   "source": [
    "seq = DNA.read(\"data/yasf-seq.yml\")\n",
    "seq"
   ]
  },
  {
   "cell_type": "markdown",
   "metadata": {
    "slideshow": {
     "slide_type": "subslide"
    }
   },
   "source": [
    "## Convert YASF to FASTA"
   ]
  },
  {
   "cell_type": "code",
   "execution_count": 13,
   "metadata": {
    "collapsed": false,
    "slideshow": {
     "slide_type": "-"
    }
   },
   "outputs": [
    {
     "name": "stdout",
     "output_type": "stream",
     "text": [
      ">presentation-id-1 SciPy 2015 is awesome!\r\n",
      "ACGTGCTAGCTCGATCGCTAGCCCGAGAGCGCAGCGCGCTAGCTCGATCGCGCTAGAGAGAGATCGCGCTAGCGWA\r\n"
     ]
    }
   ],
   "source": [
    "seq.write(\"data/not-yasf.fna\", format='fasta')\n",
    "!cat data/not-yasf.fna"
   ]
  },
  {
   "cell_type": "markdown",
   "metadata": {
    "slideshow": {
     "slide_type": "slide"
    }
   },
   "source": [
    "## We are in beta - should you even use our software?"
   ]
  },
  {
   "cell_type": "markdown",
   "metadata": {
    "slideshow": {
     "slide_type": "fragment"
    }
   },
   "source": [
    "#YES!"
   ]
  },
  {
   "cell_type": "markdown",
   "metadata": {
    "slideshow": {
     "slide_type": "subslide"
    }
   },
   "source": [
    "## API Lifecycle\n",
    "![](assets/stability-state-diagram.svg)\n"
   ]
  },
  {
   "cell_type": "code",
   "execution_count": 14,
   "metadata": {
    "collapsed": true,
    "slideshow": {
     "slide_type": "subslide"
    }
   },
   "outputs": [],
   "source": [
    "from skbio.util._decorator import stable\n",
    "\n",
    "@stable(as_of='0.4.0')\n",
    "def add(a, b):\n",
    "    \"\"\"add two numbers.\n",
    "    \n",
    "    Parameters\n",
    "    ----------\n",
    "    a, b : int\n",
    "        Numbers to add.\n",
    "        \n",
    "    Returns\n",
    "    -------\n",
    "    int\n",
    "        Sum of `a` and `b`.\n",
    "    \n",
    "    \"\"\"\n",
    "    return a + b"
   ]
  },
  {
   "cell_type": "code",
   "execution_count": 15,
   "metadata": {
    "collapsed": false
   },
   "outputs": [
    {
     "name": "stdout",
     "output_type": "stream",
     "text": [
      "Help on function add in module __main__:\n",
      "\n",
      "add(a, b)\n",
      "    add two numbers.\n",
      "    \n",
      "    State: Stable as of 0.4.0.\n",
      "    \n",
      "    Parameters\n",
      "    ----------\n",
      "    a, b : int\n",
      "        Numbers to add.\n",
      "        \n",
      "    Returns\n",
      "    -------\n",
      "    int\n",
      "        Sum of `a` and `b`.\n",
      "\n"
     ]
    }
   ],
   "source": [
    "help(add)"
   ]
  },
  {
   "cell_type": "markdown",
   "metadata": {
    "slideshow": {
     "slide_type": "subslide"
    }
   },
   "source": [
    "### What is stable:\n",
    "\n",
    "- `skbio.io` \n",
    "- `skbio.sequence`\n",
    "\n",
    "&nbsp;\n",
    "&nbsp;\n",
    "###What is next:\n",
    "\n",
    "- `skbio.alignment`\n",
    "- `skbio.tree`\n",
    "- `skbio.diversity`\n",
    "- `skbio.stats`\n",
    "- &lt;`your awesome subpackage!`&gt;"
   ]
  },
  {
   "cell_type": "markdown",
   "metadata": {
    "slideshow": {
     "slide_type": "slide"
    }
   },
   "source": [
    "## Sequence API: putting the *scikit* in scikit-bio"
   ]
  },
  {
   "cell_type": "code",
   "execution_count": 16,
   "metadata": {
    "collapsed": false,
    "slideshow": {
     "slide_type": "-"
    }
   },
   "outputs": [
    {
     "data": {
      "text/plain": [
       "DNA\n",
       "-----------------------------\n",
       "Positional metadata:\n",
       "    'exon': <dtype: bool>\n",
       "Stats:\n",
       "    length: 10\n",
       "    has gaps: False\n",
       "    has degenerates: False\n",
       "    has non-degenerates: True\n",
       "    GC-content: 50.00%\n",
       "-----------------------------\n",
       "0 AACGTGTGGA"
      ]
     },
     "execution_count": 16,
     "metadata": {},
     "output_type": "execute_result"
    }
   ],
   "source": [
    "seq = DNA(\"AacgtGTggA\", lowercase='exon')\n",
    "seq"
   ]
  },
  {
   "cell_type": "markdown",
   "metadata": {
    "slideshow": {
     "slide_type": "subslide"
    }
   },
   "source": [
    "## Made with numpy"
   ]
  },
  {
   "cell_type": "code",
   "execution_count": 17,
   "metadata": {
    "collapsed": false,
    "slideshow": {
     "slide_type": "-"
    }
   },
   "outputs": [
    {
     "data": {
      "text/plain": [
       "array([b'A', b'A', b'C', b'G', b'T', b'G', b'T', b'G', b'G', b'A'], \n",
       "      dtype='|S1')"
      ]
     },
     "execution_count": 17,
     "metadata": {},
     "output_type": "execute_result"
    }
   ],
   "source": [
    "seq.values"
   ]
  },
  {
   "cell_type": "markdown",
   "metadata": {
    "slideshow": {
     "slide_type": "subslide"
    }
   },
   "source": [
    "## And a pinch of pandas"
   ]
  },
  {
   "cell_type": "code",
   "execution_count": 18,
   "metadata": {
    "collapsed": false,
    "slideshow": {
     "slide_type": "-"
    }
   },
   "outputs": [
    {
     "data": {
      "text/html": [
       "<div>\n",
       "<table border=\"1\" class=\"dataframe\">\n",
       "  <thead>\n",
       "    <tr style=\"text-align: right;\">\n",
       "      <th></th>\n",
       "      <th>exon</th>\n",
       "    </tr>\n",
       "  </thead>\n",
       "  <tbody>\n",
       "    <tr>\n",
       "      <th>0</th>\n",
       "      <td>False</td>\n",
       "    </tr>\n",
       "    <tr>\n",
       "      <th>1</th>\n",
       "      <td>True</td>\n",
       "    </tr>\n",
       "    <tr>\n",
       "      <th>2</th>\n",
       "      <td>True</td>\n",
       "    </tr>\n",
       "    <tr>\n",
       "      <th>3</th>\n",
       "      <td>True</td>\n",
       "    </tr>\n",
       "    <tr>\n",
       "      <th>4</th>\n",
       "      <td>True</td>\n",
       "    </tr>\n",
       "    <tr>\n",
       "      <th>5</th>\n",
       "      <td>False</td>\n",
       "    </tr>\n",
       "    <tr>\n",
       "      <th>6</th>\n",
       "      <td>False</td>\n",
       "    </tr>\n",
       "    <tr>\n",
       "      <th>7</th>\n",
       "      <td>True</td>\n",
       "    </tr>\n",
       "    <tr>\n",
       "      <th>8</th>\n",
       "      <td>True</td>\n",
       "    </tr>\n",
       "    <tr>\n",
       "      <th>9</th>\n",
       "      <td>False</td>\n",
       "    </tr>\n",
       "  </tbody>\n",
       "</table>\n",
       "</div>"
      ],
      "text/plain": [
       "    exon\n",
       "0  False\n",
       "1   True\n",
       "2   True\n",
       "3   True\n",
       "4   True\n",
       "5  False\n",
       "6  False\n",
       "7   True\n",
       "8   True\n",
       "9  False"
      ]
     },
     "execution_count": 18,
     "metadata": {},
     "output_type": "execute_result"
    }
   ],
   "source": [
    "seq.positional_metadata"
   ]
  },
  {
   "cell_type": "markdown",
   "metadata": {
    "slideshow": {
     "slide_type": "subslide"
    }
   },
   "source": [
    "## Slicing with positional metadata:"
   ]
  },
  {
   "cell_type": "code",
   "execution_count": 19,
   "metadata": {
    "collapsed": false,
    "slideshow": {
     "slide_type": "-"
    }
   },
   "outputs": [
    {
     "data": {
      "text/plain": [
       "DNA\n",
       "-----------------------------\n",
       "Positional metadata:\n",
       "    'exon': <dtype: bool>\n",
       "Stats:\n",
       "    length: 6\n",
       "    has gaps: False\n",
       "    has degenerates: False\n",
       "    has non-degenerates: True\n",
       "    GC-content: 66.67%\n",
       "-----------------------------\n",
       "0 ACGTGG"
      ]
     },
     "execution_count": 19,
     "metadata": {},
     "output_type": "execute_result"
    }
   ],
   "source": [
    "seq[seq.positional_metadata['exon']]"
   ]
  },
  {
   "cell_type": "markdown",
   "metadata": {
    "slideshow": {
     "slide_type": "slide"
    }
   },
   "source": [
    "## Application: building a taxonomy classifier"
   ]
  },
  {
   "cell_type": "code",
   "execution_count": 20,
   "metadata": {
    "collapsed": true
   },
   "outputs": [],
   "source": [
    "aligned_seqs_fp = 'data/gg_13_8_otus/rep_set_aligned/82_otus.fasta'\n",
    "taxonomy_fp = 'data/gg_13_8_otus/taxonomy/82_otu_taxonomy.txt'"
   ]
  },
  {
   "cell_type": "code",
   "execution_count": 21,
   "metadata": {
    "collapsed": true,
    "slideshow": {
     "slide_type": "subslide"
    }
   },
   "outputs": [],
   "source": [
    "from skbio import DNA\n",
    "\n",
    "fwd_primer = DNA(\"GTGCCAGCMGCCGCGGTAA\",\n",
    "                 metadata={'label':'fwd-primer'})\n",
    "rev_primer = DNA(\"GGACTACHVGGGTWTCTAAT\",\n",
    "                 metadata={'label':'rev-primer'}).reverse_complement()"
   ]
  },
  {
   "cell_type": "code",
   "execution_count": 22,
   "metadata": {
    "collapsed": true,
    "slideshow": {
     "slide_type": "subslide"
    }
   },
   "outputs": [],
   "source": [
    "def seq_to_regex(seq):\n",
    "    result = []\n",
    "    for base in str(seq):\n",
    "        if base in DNA.degenerate_chars:\n",
    "            result.append('[{0}]'.format(\n",
    "                ''.join(DNA.degenerate_map[base])))\n",
    "        else:\n",
    "            result.append(base)\n",
    "\n",
    "    return ''.join(result)\n",
    "\n",
    "regex = '({0}.*{1})'.format(seq_to_regex(fwd_primer),\n",
    "                            seq_to_regex(rev_primer))"
   ]
  },
  {
   "cell_type": "code",
   "execution_count": 23,
   "metadata": {
    "collapsed": false,
    "slideshow": {
     "slide_type": "subslide"
    }
   },
   "outputs": [
    {
     "data": {
      "text/plain": [
       "slice(2227, 4090, None)"
      ]
     },
     "execution_count": 23,
     "metadata": {},
     "output_type": "execute_result"
    }
   ],
   "source": [
    "import numpy as np\n",
    "import skbio\n",
    "\n",
    "starts = []\n",
    "stops = []\n",
    "for seq in skbio.io.read(aligned_seqs_fp, format='fasta', \n",
    "                         constructor=DNA):\n",
    "    for match in seq.find_with_regex(regex, ignore=seq.gaps()):\n",
    "        starts.append(match.start)\n",
    "        stops.append(match.stop)\n",
    "        \n",
    "locus = slice(int(np.median(starts)), int(np.median(stops)))\n",
    "locus"
   ]
  },
  {
   "cell_type": "code",
   "execution_count": 24,
   "metadata": {
    "collapsed": true,
    "slideshow": {
     "slide_type": "subslide"
    }
   },
   "outputs": [],
   "source": [
    "kmer_counts = []\n",
    "seq_ids = []\n",
    "for seq in skbio.io.read(aligned_seqs_fp, format='fasta',\n",
    "                         constructor=DNA):\n",
    "    seq_ids.append(seq.metadata['id'])\n",
    "    sliced_seq = seq[locus].degap()\n",
    "    kmer_counts.append(sliced_seq.kmer_frequencies(8))"
   ]
  },
  {
   "cell_type": "code",
   "execution_count": 25,
   "metadata": {
    "collapsed": true,
    "slideshow": {
     "slide_type": "subslide"
    }
   },
   "outputs": [],
   "source": [
    "from sklearn.feature_extraction import DictVectorizer\n",
    "X = DictVectorizer().fit_transform(kmer_counts)"
   ]
  },
  {
   "cell_type": "code",
   "execution_count": 26,
   "metadata": {
    "collapsed": true,
    "slideshow": {
     "slide_type": "subslide"
    }
   },
   "outputs": [],
   "source": [
    "taxonomy_level = 3 # class\n",
    "id_to_taxon = {}\n",
    "with open(taxonomy_fp) as f:\n",
    "    for line in f:\n",
    "       id_, taxon = line.strip().split('\\t')\n",
    "       id_to_taxon[id_] = '; '.join(taxon.split('; ')[:taxonomy_level])\n",
    "\n",
    "y = [id_to_taxon[seq_id] for seq_id in seq_ids]"
   ]
  },
  {
   "cell_type": "code",
   "execution_count": 27,
   "metadata": {
    "collapsed": true,
    "slideshow": {
     "slide_type": "subslide"
    }
   },
   "outputs": [],
   "source": [
    "from sklearn.feature_selection import SelectPercentile\n",
    "\n",
    "X = SelectPercentile().fit_transform(X, y)"
   ]
  },
  {
   "cell_type": "code",
   "execution_count": 28,
   "metadata": {
    "collapsed": true,
    "slideshow": {
     "slide_type": "subslide"
    }
   },
   "outputs": [],
   "source": [
    "from sklearn.cross_validation import train_test_split\n",
    "\n",
    "X_train, X_test, y_train, y_test = train_test_split(X, y,\n",
    "                                                    random_state=0)"
   ]
  },
  {
   "cell_type": "code",
   "execution_count": 29,
   "metadata": {
    "collapsed": true,
    "slideshow": {
     "slide_type": "subslide"
    }
   },
   "outputs": [],
   "source": [
    "from sklearn.svm import SVC\n",
    "\n",
    "y_pred = SVC(C=10, kernel='linear', degree=3,\n",
    "             gamma=0.001).fit(X_train, y_train).predict(X_test)"
   ]
  },
  {
   "cell_type": "code",
   "execution_count": 30,
   "metadata": {
    "collapsed": false,
    "slideshow": {
     "slide_type": "subslide"
    }
   },
   "outputs": [
    {
     "data": {
      "image/png": "[encoded data removed]",
      "text/plain": [
       "<matplotlib.figure.Figure at 0x7f7a981357f0>"
      ]
     },
     "metadata": {},
     "output_type": "display_data"
    },
    {
     "name": "stdout",
     "output_type": "stream",
     "text": [
      "F-score: 0.654\n"
     ]
    }
   ],
   "source": [
    "from sklearn.metrics import confusion_matrix, f1_score\n",
    "\n",
    "cm = confusion_matrix(y_test, y_pred)\n",
    "cm_normalized = cm / cm.sum(axis=1)[:, np.newaxis]\n",
    "plot_confusion_matrix(cm_normalized, title='Normalized confusion matrix')\n",
    "\n",
    "print(\"F-score: %1.3f\" % f1_score(y_test, y_pred, average='micro'))"
   ]
  },
  {
   "cell_type": "markdown",
   "metadata": {
    "slideshow": {
     "slide_type": "slide"
    }
   },
   "source": [
    "# Acknowledgements\n",
    "\n",
    "\n",
    "[scikit-bio development team](https://github.com/biocore/scikit-bio/graphs/contributors)\n",
    "\n",
    "## Funding\n",
    "\n",
    "\n",
    "* Alfred P Sloan Foundation\n",
    "* National Science Foundation\n",
    "* National Institutes of Health\n",
    "* Arizona Board of Regents Technology and Research Investment Fund\n",
    "\n",
    "**The Caporaso Lab is hiring postdocs and developers, find us if you want to get paid to work on scikit-bio!**\n",
    "\n",
    "**We're having a sprint on Saturday and Sunday!** "
   ]
  }
 ],
 "metadata": {
  "celltoolbar": "Slideshow",
  "kernelspec": {
   "display_name": "Python 3",
   "language": "python",
   "name": "python3"
  },
  "language_info": {
   "codemirror_mode": {
    "name": "ipython",
    "version": 3
   },
   "file_extension": ".py",
   "mimetype": "text/x-python",
   "name": "python",
   "nbconvert_exporter": "python",
   "pygments_lexer": "ipython3",
   "version": "3.4.0"
  }
 },
 "nbformat": 4,
 "nbformat_minor": 0
}
